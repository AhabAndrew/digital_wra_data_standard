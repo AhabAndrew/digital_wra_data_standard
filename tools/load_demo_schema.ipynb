{
 "cells": [
  {
   "cell_type": "markdown",
   "metadata": {},
   "source": [
    "# Simple tool to read the demo JSON data model file"
   ]
  },
  {
   "cell_type": "code",
   "execution_count": null,
   "metadata": {},
   "outputs": [],
   "source": [
    "import os\n",
    "import json\n",
    "import pandas as pd"
   ]
  },
  {
   "cell_type": "markdown",
   "metadata": {},
   "source": [
    "### Load the JSON file"
   ]
  },
  {
   "cell_type": "code",
   "execution_count": null,
   "metadata": {},
   "outputs": [],
   "source": [
    "cwd = os.getcwd()\n",
    "file_path = os.path.relpath(r'..\\demo_data\\iea43_wra_data_model.json', cwd)\n",
    "\n",
    "with open(file_path) as json_file:\n",
    "    meta_data = json.load(json_file)"
   ]
  },
  {
   "cell_type": "markdown",
   "metadata": {},
   "source": [
    "### Show all the measurement locations"
   ]
  },
  {
   "cell_type": "code",
   "execution_count": null,
   "metadata": {},
   "outputs": [],
   "source": [
    " meta_data"
   ]
  },
  {
   "cell_type": "code",
   "execution_count": null,
   "metadata": {},
   "outputs": [],
   "source": [
    "# print a table of the meas_locs parameters.\n",
    "meas_locs = []\n",
    "for meas_loc in meta_data['measurement_location']:\n",
    "    meas_locs.append({\n",
    "        'Name': meas_loc['name'],\n",
    "        'Latitude': meas_loc['latitude_ddeg'],\n",
    "        'Longitude': meas_loc['longitude_ddeg'],\n",
    "        'Type': meas_loc['measurement_station_type_id']\n",
    "    })\n",
    "meas_locs_df = pd.DataFrame(meas_locs)\n",
    "meas_locs_df.set_index('Name', inplace=True)\n",
    "meas_locs_df"
   ]
  },
  {
   "cell_type": "code",
   "execution_count": null,
   "metadata": {},
   "outputs": [],
   "source": []
  },
  {
   "cell_type": "code",
   "execution_count": null,
   "metadata": {},
   "outputs": [],
   "source": []
  },
  {
   "cell_type": "code",
   "execution_count": null,
   "metadata": {},
   "outputs": [],
   "source": []
  },
  {
   "cell_type": "code",
   "execution_count": null,
   "metadata": {},
   "outputs": [],
   "source": []
  },
  {
   "cell_type": "code",
   "execution_count": null,
   "metadata": {},
   "outputs": [],
   "source": []
  },
  {
   "cell_type": "code",
   "execution_count": null,
   "metadata": {},
   "outputs": [],
   "source": [
    "#def get_meas_sensor_configs(meas_loc_uuid, remove_duplicates=True, add_sensor_config_attr_to_ignore=None):\n",
    "# Keys ignored when assessing if there are any configuration duplicates\n",
    "remove_duplicates = True\n",
    "ignore_sensor_config_attr = ['id', 'notes', 'date_from', 'date_to', 'logger_main_config_uuid']\n",
    "\n",
    "# meas_points = bw.load.load._LoadBWPlatform.get_meas_points(meas_loc_uuid)\n",
    "# meas_points = _sort_meas_points(meas_points)\n",
    "meas_points = meas_loc['measurement_point']\n",
    "# for meas_point in meas_points:\n",
    "#     meas_point['meas_point_notes'] = meas_point.pop('notes')\n",
    "\n",
    "meas_sensor_configs = []\n",
    "for meas_point in meas_points:\n",
    "#     sen_configs = bw.load.load._LoadBWPlatform.get_sensor_configs(meas_point['id'])\n",
    "    sen_configs = meas_point['sensor_config']\n",
    "    sen_configs = sorted(sen_configs, key=lambda i: i['date_from'])\n",
    "    #sen_configs = [_flatten_sensor_config_dict(sen_config) for sen_config in sen_configs]\n",
    "    # merge similar sensors configs if the config is the same (except 'ignore_sensor_config_attr' keys)\n",
    "    if remove_duplicates:\n",
    "        for s in range(1, len(sen_configs)):\n",
    "            if {k: v for k, v in sorted(sen_configs[s - 1].items()) if k not in ignore_sensor_config_attr} == \\\n",
    "                    {k: v for k, v in sorted(sen_configs[s].items()) if k not in ignore_sensor_config_attr}:\n",
    "                for k in ignore_sensor_config_attr:\n",
    "                    if (k != 'date_to') & (k != 'date_from') & (k in sen_configs[s].keys()):\n",
    "                        if type(sen_configs[s-1][k]) is not list:\n",
    "                            sen_configs[s][k] = [sen_configs[s - 1][k], sen_configs[s][k]]\n",
    "                        else:\n",
    "                            sen_configs[s-1][k].append(sen_configs[s][k])\n",
    "                            sen_configs[s][k] = sen_configs[s - 1][k]\n",
    "\n",
    "                sen_configs[s]['date_from'] = sen_configs[s - 1]['date_from']\n",
    "                sen_configs[s - 1] = {}\n",
    "\n",
    "        sen_configs = list(filter(None, sen_configs))\n",
    "\n",
    "    for sen_config in sen_configs:\n",
    "        sen_config['date_from'] = sen_config['date_from'].split('+')[0]\n",
    "        sen_config['date_to'] = sen_config['date_to'].split('+')[0] if sen_config['date_to'] is not None else None\n",
    "        #sen_config['sensor_config_id'] = sen_config['id']\n",
    "        sen_config.update(meas_point)\n",
    "        #del sen_config['id']\n",
    "        if sen_config.get('desired_adj'):\n",
    "            del sen_config['desired_adj']\n",
    "        meas_sensor_configs.append(sen_config)\n",
    "\n",
    "#return meas_sensor_configs"
   ]
  },
  {
   "cell_type": "code",
   "execution_count": null,
   "metadata": {},
   "outputs": [],
   "source": [
    "meas_sensor_configs[0].keys()"
   ]
  },
  {
   "cell_type": "code",
   "execution_count": null,
   "metadata": {},
   "outputs": [],
   "source": [
    "meas_sensor_configs[0]['sensor_config']"
   ]
  },
  {
   "cell_type": "markdown",
   "metadata": {},
   "source": [
    "### Show all the measurement points with all their changes"
   ]
  },
  {
   "cell_type": "code",
   "execution_count": null,
   "metadata": {},
   "outputs": [],
   "source": [
    "# print a table of the meas_points.\n"
   ]
  },
  {
   "cell_type": "code",
   "execution_count": null,
   "metadata": {
    "scrolled": false
   },
   "outputs": [],
   "source": [
    "# print a table of wind speed information only including all the config changes"
   ]
  },
  {
   "cell_type": "code",
   "execution_count": null,
   "metadata": {},
   "outputs": [],
   "source": []
  }
 ],
 "metadata": {
  "kernelspec": {
   "display_name": "Python 3",
   "language": "python",
   "name": "python3"
  },
  "language_info": {
   "codemirror_mode": {
    "name": "ipython",
    "version": 3
   },
   "file_extension": ".py",
   "mimetype": "text/x-python",
   "name": "python",
   "nbconvert_exporter": "python",
   "pygments_lexer": "ipython3",
   "version": "3.7.3"
  }
 },
 "nbformat": 4,
 "nbformat_minor": 2
}
